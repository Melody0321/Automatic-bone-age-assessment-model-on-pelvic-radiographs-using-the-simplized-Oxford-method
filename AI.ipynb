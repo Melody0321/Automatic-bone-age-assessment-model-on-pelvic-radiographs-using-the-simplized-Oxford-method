{
 "cells": [
  {
   "cell_type": "markdown",
   "id": "7eb6b212",
   "metadata": {},
   "source": [
    "# BINARY CLASSIFICATION USING RESNET-18\n",
    "## Import Packets"
   ]
  },
  {
   "cell_type": "code",
   "execution_count": 2,
   "id": "e43661c6",
   "metadata": {},
   "outputs": [
    {
     "name": "stdout",
     "output_type": "stream",
     "text": [
      "using device: cpu\n",
      "1.10.0\n"
     ]
    }
   ],
   "source": [
    "import torch\n",
    "import torch.nn as nn\n",
    "import torch.optim as optim\n",
    "from torch.utils.data import Dataset, DataLoader\n",
    "from torch.utils.data import sampler\n",
    "\n",
    "import torchvision.datasets as dset\n",
    "import torchvision.transforms as T\n",
    "import torch.nn.functional as F\n",
    "from PIL import ImageFilter\n",
    "\n",
    "import numpy as np\n",
    "import cv2 \n",
    "from PIL import Image\n",
    "import matplotlib.pyplot as plt\n",
    "import pandas as pd\n",
    "plt.style.use('ggplot')\n",
    "plt.rcParams['figure.figsize'] = [4, 3]\n",
    "plt.rcParams['figure.dpi'] = 500\n",
    "\n",
    "USE_GPU = True\n",
    "dtype = torch.float32 # We will be using float throughout this tutorial.\n",
    "\n",
    "if USE_GPU and torch.cuda.is_available():\n",
    "    device = torch.device('cuda')\n",
    "else:\n",
    "    device = torch.device('cpu')\n",
    "\n",
    "# Constant to control how frequently we print train loss.\n",
    "print_every = 150\n",
    "print('using device:', device)\n",
    "print(torch.__version__)"
   ]
  },
  {
   "cell_type": "markdown",
   "id": "67640b6a",
   "metadata": {},
   "source": [
    "## Root Path"
   ]
  },
  {
   "cell_type": "code",
   "execution_count": null,
   "id": "a40e5276",
   "metadata": {},
   "outputs": [],
   "source": [
    "ROOT = './LHY_data'\n",
    "data = pd.read_csv(ROOT+'/Oxford_Score_data_two/data_label.csv')\n",
    "print(data.shape)\n",
    "data = data.dropna(axis=0)\n",
    "print(data.shape)"
   ]
  },
  {
   "cell_type": "markdown",
   "id": "0c64e6fc",
   "metadata": {},
   "source": [
    "## Generate Training Set and Test Set"
   ]
  },
  {
   "cell_type": "markdown",
   "id": "4e92c4aa",
   "metadata": {},
   "source": [
    "edge enhance：head，greater，ilium，acetabulum，junction\n",
    "\n",
    "find：Y\n",
    "\n",
    "detal：pubis，ischium"
   ]
  },
  {
   "cell_type": "code",
   "execution_count": 38,
   "id": "553662b4",
   "metadata": {},
   "outputs": [],
   "source": [
    "def default_loader(path):\n",
    "        return Image.open(path).convert('L').filter(ImageFilter.BLUR)\n",
    "        # 均值滤波器\n",
    "\n",
    "class TrainingSet(Dataset): \n",
    "    def __init__(self, transform=None,target_transform=None, loader=default_loader):\n",
    "\n",
    "        super(TrainingSet,self).__init__()\n",
    "        imgs = []\n",
    "        df = pd.read_csv(ROOT+'/Oxford_Score_data/data_label.csv').dropna(axis=0)\n",
    "        df = pd.concat([df,df],axis=0)\n",
    "        for index, row in df.iterrows():\n",
    "            #id=row['index']\n",
    "            img=row['index']\n",
    "            labels=np.array([row['head of femur'],\n",
    "                             row['greater trochanter'],\n",
    "                             row['ilium'],\n",
    "                             row['ischium'],\n",
    "                             row['acetabulum'],\n",
    "                             row['junction'],\n",
    "                             row['pucis'],\n",
    "                             row['Y']\n",
    "                             ])\n",
    "            imgs.append((img,labels))   \n",
    "        self.imgs = imgs\n",
    "        self.transform = transform\n",
    "        self.target_transform = target_transform\n",
    "        self.loader = loader\n",
    "        \n",
    "    def __getitem__(self, index):\n",
    "        #print(index)\n",
    "        fn, label = self.imgs[index]\n",
    "        img = self.loader(ROOT+'/Oxford_Score_data/'+str(int(fn))+'.PNG')\n",
    "        img = np.array(img)\n",
    "        if index >= 973:\n",
    "            img = np.rot90(img,1)\n",
    "        img = cv2.resize(img, (int(128), int(128)))\n",
    "        if self.transform is not None:\n",
    "            img = self.transform(img) \n",
    "        return img,label\n",
    "\n",
    "    def __len__(self):\n",
    "        return len(self.imgs)\n",
    "\n",
    "class ValidationSet(Dataset): \n",
    "    def __init__(self, transform=None,target_transform=None, loader=default_loader):\n",
    "\n",
    "        super(ValidationSet,self).__init__()\n",
    "        imgs = []\n",
    "        df = pd.read_csv(ROOT+'/Oxford_Score_data/data_label.csv').dropna(axis=0)\n",
    "        df = pd.concat([df,df],axis=0)\n",
    "        for index, row in df.iterrows():\n",
    "            # img=open(ROOT+'\\\\dataset\\\\'+str(row['index'])+'.PNG')\n",
    "            img=row['index']\n",
    "            labels=np.array([row['head of femur'],\n",
    "                             row['greater trochanter'],\n",
    "                             row['ilium'],\n",
    "                             row['ischium'],\n",
    "                             row['acetabulum'],\n",
    "                             row['junction'],\n",
    "                             row['pucis'],\n",
    "                             row['Y']\n",
    "                             ])\n",
    "            imgs.append((img,labels))   \n",
    "  \n",
    "        self.imgs = imgs\n",
    "        self.transform = transform\n",
    "        self.target_transform = target_transform\n",
    "        self.loader = loader  \n",
    "        \n",
    "    def __getitem__(self, index):\n",
    "        #print(index)\n",
    "        fn, label = self.imgs[index]\n",
    "        img = self.loader(ROOT+'/Oxford_Score_data/'+fn)\n",
    "        img = np.array(img)\n",
    "        img = cv2.resize(img, (int(128), int(128)))\n",
    "        if index >= 973:\n",
    "            img = np.rot90(img,1)\n",
    "        if self.transform is not None:\n",
    "            img = self.transform(img) \n",
    "        return img,label\n",
    "\n",
    "    def __len__(self):\n",
    "        return len(self.imgs)"
   ]
  },
  {
   "cell_type": "code",
   "execution_count": null,
   "id": "4ae3d893",
   "metadata": {},
   "outputs": [],
   "source": [
    "train_data=TrainingSet(transform=T.ToTensor())\n",
    "val_data=ValidationSet(transform=T.ToTensor())\n",
    "train_data.__getitem__(1100)\n"
   ]
  },
  {
   "cell_type": "code",
   "execution_count": null,
   "id": "d3ac63dc",
   "metadata": {},
   "outputs": [],
   "source": [
    "img, label = train_data.__getitem__(1100)\n",
    "img = np.array(img)\n",
    "plt.imshow(img.squeeze(), cmap=plt.get_cmap('gray'))"
   ]
  },
  {
   "cell_type": "code",
   "execution_count": 41,
   "id": "5cacc42f",
   "metadata": {},
   "outputs": [],
   "source": [
    "#图片缺失 718，722\n",
    "loader_train = DataLoader(train_data, batch_size=5, sampler=sampler.SubsetRandomSampler(list(range(700))+(list(range(976,1800)))))\n",
    "loader_val = DataLoader(train_data, batch_size=1, sampler=sampler.SubsetRandomSampler(list(range(700,976))))"
   ]
  },
  {
   "cell_type": "code",
   "execution_count": 42,
   "id": "b53876cf",
   "metadata": {},
   "outputs": [
    {
     "name": "stdout",
     "output_type": "stream",
     "text": [
      "305\n",
      "276\n"
     ]
    }
   ],
   "source": [
    "print(len(loader_train))\n",
    "print(len(loader_val))"
   ]
  },
  {
   "cell_type": "markdown",
   "id": "71f04459",
   "metadata": {},
   "source": [
    "## Check Accuracy"
   ]
  },
  {
   "cell_type": "code",
   "execution_count": 44,
   "id": "b97e6e3d",
   "metadata": {},
   "outputs": [],
   "source": [
    "def check_accuracy(loader, model):\n",
    "    #print('Check accuracy on validation set...')\n",
    "    num_samples = 0\n",
    "    model.eval()  # set model to evaluation mode\n",
    "    with torch.no_grad():\n",
    "        error = 0\n",
    "        for x, y in loader:\n",
    "            x = x.to(device=device, dtype=dtype)  # move to device, e.g. GPU\n",
    "            y = y.to(device=device, dtype=dtype)\n",
    "            pred = model(x)\n",
    "            pred.to(device=device, dtype=dtype)\n",
    "            #print(np.array(pred.cpu()))\n",
    "            #print(np.array(y.cpu()))\n",
    "            #error += np.sum(np.power(np.array(abs(np.round(pred.cpu(),0) - y.cpu()).cpu()),2))\n",
    "            error += np.sum(np.array(abs(np.round(pred.cpu(),0) - y.cpu()).cpu()))\n",
    "            num_samples += 1\n",
    "        avg_error = error / num_samples\n",
    "        #print('Average L1 error:', avg_error.item(), \"on\", num_samples, \"validation images.\")\n",
    "    return avg_error"
   ]
  },
  {
   "cell_type": "markdown",
   "id": "77bd3d63",
   "metadata": {},
   "source": [
    "## Training and Loss Function"
   ]
  },
  {
   "cell_type": "code",
   "execution_count": 45,
   "id": "0bce6936",
   "metadata": {},
   "outputs": [],
   "source": [
    "def train(model, optimizer, epochs=1, print_every=10):\n",
    "    model = model.to(device=device)  # move the model parameters to CPU/GPU\n",
    "    epoch_loss = 0\n",
    "    for e in range(epochs):\n",
    "        for t, (x, y) in enumerate(loader_train):\n",
    "            model.train()  # put model to training mode\n",
    "            x = x.to(device=device, dtype=dtype)  # move to device, e.g. GPU\n",
    "            y = y.to(device=device, dtype=dtype)\n",
    "            scores = model(x)\n",
    "            loss = F.mse_loss(scores,y)\n",
    "            epoch_loss += loss\n",
    "            optimizer.zero_grad()\n",
    "            loss.backward()\n",
    "            optimizer.step()\n",
    "            #if t % print_every == 0:\n",
    "               #print(\"Iteration\",t , \"loss =\", loss.item())\n",
    "    #print(\"Average loss:\", epoch_loss.item() / len(loader_train))\n",
    "    return epoch_loss.item() / len(loader_train)"
   ]
  },
  {
   "cell_type": "markdown",
   "id": "a53f140d",
   "metadata": {},
   "source": [
    "## The ResNet-18 Structure"
   ]
  },
  {
   "cell_type": "code",
   "execution_count": 46,
   "id": "f2080e4d",
   "metadata": {
    "scrolled": false
   },
   "outputs": [],
   "source": [
    "model = None\n",
    "optimizer = None\n",
    "\n",
    "def flatten(x):\n",
    "    N = x.shape[0] # read in N, C, H, W\n",
    "    return x.view(N, -1)  # \"flatten\" the C * H * W values into a single vector per image\n",
    "\n",
    "class Flatten(nn.Module):\n",
    "    def forward(self, x):\n",
    "        return flatten(x)\n",
    "\n",
    "class Residual(nn.Module):\n",
    "    def __init__(self, in_channel, out_channel, use_1x1_conv=False, strides=1):\n",
    "        super().__init__()\n",
    "\n",
    "        self.conv_1 = nn.Conv2d(in_channel, out_channel, (3,3), padding=1, stride=strides)\n",
    "        nn.init.kaiming_normal_(self.conv_1.weight)\n",
    "        self.conv_2 = nn.Conv2d(out_channel, out_channel, (3,3), padding=1)\n",
    "        nn.init.kaiming_normal_(self.conv_2.weight)\n",
    "        if use_1x1_conv:\n",
    "            self.conv_3 = nn.Conv2d(in_channel, out_channel, (1,1), stride=strides)\n",
    "            nn.init.kaiming_normal_(self.conv_3.weight)\n",
    "        else:\n",
    "            self.conv_3 = None\n",
    "        self.use_1x1_conv = use_1x1_conv\n",
    "        \n",
    "        self.bn_1 = nn.BatchNorm2d(out_channel)\n",
    "        self.bn_2 = nn.BatchNorm2d(out_channel)\n",
    "\n",
    "    def forward(self, x):\n",
    "        Y = torch.relu((self.bn_1(self.conv_1(x))))\n",
    "        Y = self.bn_2(self.conv_2(Y))\n",
    "        if self.conv_3:\n",
    "            x = self.conv_3(x)\n",
    "        return torch.relu(Y + x)\n",
    "\n",
    "model = nn.Sequential(\n",
    "    # Layer 1 128x128x3 -> 128x128x64\n",
    "    nn.Conv2d(1, 64, (7,7), stride=1, padding=3),   #inchanel = 1灰度图，3RGB图；\n",
    "    nn.BatchNorm2d(64),\n",
    "    nn.ReLU(),\n",
    "    nn.MaxPool2d((3,3), stride=1, padding=1)\n",
    ") \n",
    "\n",
    "# Layer 2 & 3 128x128x64 -> 128x128x64\n",
    "model.add_module('Resnet_block_1_1', Residual(64, 64))\n",
    "\n",
    "# Layer 4 & 5 128x128x64 -> 128x128x64\n",
    "model.add_module('Resnet_block_1_2', Residual(64, 64))\n",
    "\n",
    "# Layer 6 & 7 128x128x64 -> 64x64x128\n",
    "model.add_module('Resnet_block_2_1', Residual(64, 128, use_1x1_conv=True, strides=2))\n",
    "\n",
    "# Layer 8 & 9 64x64x128 -> 64x64x128\n",
    "model.add_module('Resnet_block_2_2', Residual(128, 128))\n",
    "\n",
    "# Layer 10 & 11 64x64x128 -> 32x32x256\n",
    "model.add_module('Resnet_block_3_1', Residual(128, 256, use_1x1_conv=True, strides=2))\n",
    "\n",
    "# Layer 12 & 13 32x32x256 -> 32x32x256\n",
    "model.add_module('Resnet_block_3_2', Residual(256, 256))\n",
    "\n",
    "# Layer 14 & 15 32x32x256 -> 16x16x512\n",
    "model.add_module('Resnet_block_4_1', Residual(256, 512, use_1x1_conv=True, strides=2))\n",
    "\n",
    "# Layer 16 & 17 16x16x512 -> 16x16x512\n",
    "model.add_module('Resnet_block_4_2', Residual(512, 512))\n",
    "\n",
    "# 16x16x512 -> 1x1x512\n",
    "model.add_module('avgpool', nn.AdaptiveAvgPool2d((1, 1)))               \n",
    "# 1x1x512 -> 512\n",
    "model.add_module('flatten', nn.Flatten())                 \n",
    "# Layer 18 FC Layer 512 -> 10\n",
    "model.add_module('linear', nn.Linear(512, 8))"
   ]
  },
  {
   "cell_type": "markdown",
   "id": "e5630783",
   "metadata": {},
   "source": [
    "## Train the Network!"
   ]
  },
  {
   "cell_type": "code",
   "execution_count": null,
   "id": "3af95164",
   "metadata": {
    "scrolled": false
   },
   "outputs": [],
   "source": [
    "epochs = 100\n",
    "min_error = 10\n",
    "error = []\n",
    "loss = []\n",
    "optimizer = optim.SGD(model.parameters(), lr=1e-3, momentum=0.9, nesterov=True)\n",
    "for epoch in range(epochs):\n",
    "    #print(f\"Epoch {epoch+1} start.\")\n",
    "    #print(\"\\r\", end=\"\")\n",
    "    #print(\"Progressing Rate: {} %: \" .format(np.round(epoch/epochs*100),1), \"▋\" * (int(epoch/epochs*100/5)), end=\"\")\n",
    "    tmp_loss = train(model, optimizer, epochs=1, print_every=5)\n",
    "    print(f\"Epoch {epoch+1} ends.\")\n",
    "    loss.append(tmp_loss)\n",
    "    error.append(check_accuracy(loader_val, model))\n",
    "    if error[epoch] < min_error:\n",
    "        min_error = error[epoch]\n",
    "        print(\"Saving model...\")\n",
    "        torch.save(model,'model_best.pth')\n",
    "print(\"Trained Completed!\")"
   ]
  },
  {
   "cell_type": "code",
   "execution_count": 111,
   "id": "d572ee03",
   "metadata": {},
   "outputs": [
    {
     "name": "stdout",
     "output_type": "stream",
     "text": [
      "Save EDGE_ENHANCE_MORE OK!\n"
     ]
    }
   ],
   "source": [
    "def SaveResult(filtername):\n",
    "    normal = []\n",
    "    for i in range(len(error)):\n",
    "        normal.append([error[i],loss[i]])\n",
    "    info_normal = pd.DataFrame(normal,columns=['error','loss'])\n",
    "    info_normal.to_csv('./FilterResult/%s.csv' %(filtername))\n",
    "    print(\"Save %s OK!\" %(filtername))"
   ]
  },
  {
   "cell_type": "code",
   "execution_count": null,
   "id": "84363d6b",
   "metadata": {},
   "outputs": [],
   "source": [
    "SaveResult(filtername='EDGE_ENHANCE_MORE')"
   ]
  },
  {
   "cell_type": "code",
   "execution_count": 28,
   "id": "2b8611b5",
   "metadata": {},
   "outputs": [],
   "source": [
    "result1 = pd.read_csv('./FilterResult/Normal1000.csv')\n",
    "result2 = pd.read_csv('./FilterResult/Mean1000.csv')"
   ]
  },
  {
   "cell_type": "code",
   "execution_count": null,
   "id": "638448e1",
   "metadata": {},
   "outputs": [],
   "source": [
    "print(result1['loss'].var(),result2['loss'].var())\n",
    "print(result1['error'].var(),result2['error'].var())"
   ]
  },
  {
   "cell_type": "code",
   "execution_count": null,
   "id": "7ca98a6e",
   "metadata": {},
   "outputs": [],
   "source": [
    "plt.clf()\n",
    "plt.plot(list(range(100)), result1[['loss']], linewidth=1)\n",
    "plt.plot(list(range(100)), result2[['loss']], linewidth=1)\n",
    "font = {'size' : 5}\n",
    "plt.legend(['Non-Filter','Mean'],fontsize=5,loc='best')\n",
    "plt.title(\"Loss.\",size=5)\n",
    "plt.xlabel(\"Epochs\",font)\n",
    "plt.ylabel(\"Average Loss\",font)\n",
    "plt.yticks(size=5)\n",
    "plt.xticks(size=5)\n",
    "plt.savefig('./FilterResultGraph/Mean Loss1000.jpg')\n",
    "plt.show()"
   ]
  },
  {
   "cell_type": "markdown",
   "id": "9853f21c",
   "metadata": {},
   "source": [
    "## Load Existing Models"
   ]
  },
  {
   "cell_type": "code",
   "execution_count": 13,
   "id": "d702c394",
   "metadata": {},
   "outputs": [],
   "source": [
    "model = torch.load('model_best.pth')"
   ]
  },
  {
   "cell_type": "code",
   "execution_count": null,
   "id": "8acabc8a",
   "metadata": {},
   "outputs": [],
   "source": [
    "# Check accuracy on validation set\n",
    "check_accuracy(loader_val, model)"
   ]
  },
  {
   "cell_type": "code",
   "execution_count": null,
   "id": "e837ba1e",
   "metadata": {},
   "outputs": [],
   "source": [
    "# Check accuracy on training set\n",
    "check_accuracy(loader_train, model)"
   ]
  },
  {
   "cell_type": "code",
   "execution_count": null,
   "id": "f5d67cba",
   "metadata": {},
   "outputs": [],
   "source": [
    "from torchsummary import summary\n",
    "summary(model, (1,128,128))"
   ]
  }
 ],
 "metadata": {
  "interpreter": {
   "hash": "c613ea19632225911381a296a0596167195258df3766dfaf3b32dd6d1af8b884"
  },
  "kernelspec": {
   "display_name": "Python 3.7.6 ('RESNET-PYTORCH')",
   "language": "python",
   "name": "python3"
  },
  "language_info": {
   "codemirror_mode": {
    "name": "ipython",
    "version": 3
   },
   "file_extension": ".py",
   "mimetype": "text/x-python",
   "name": "python",
   "nbconvert_exporter": "python",
   "pygments_lexer": "ipython3",
   "version": "3.7.13"
  }
 },
 "nbformat": 4,
 "nbformat_minor": 5
}
